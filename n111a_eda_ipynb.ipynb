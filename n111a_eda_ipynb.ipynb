{
  "nbformat": 4,
  "nbformat_minor": 0,
  "metadata": {
    "colab": {
      "name": "n111a-eda.ipynb의 사본의 사본의 사본",
      "provenance": [],
      "collapsed_sections": [],
      "include_colab_link": true
    },
    "kernelspec": {
      "name": "python3",
      "display_name": "Python 3"
    }
  },
  "cells": [
    {
      "cell_type": "markdown",
      "metadata": {
        "id": "view-in-github",
        "colab_type": "text"
      },
      "source": [
        "<a href=\"https://colab.research.google.com/github/sugar100/Section-Project/blob/main/n111a_eda_ipynb.ipynb\" target=\"_parent\"><img src=\"https://colab.research.google.com/assets/colab-badge.svg\" alt=\"Open In Colab\"/></a>"
      ]
    },
    {
      "cell_type": "markdown",
      "metadata": {
        "id": "MSnsTgZLKO72"
      },
      "source": [
        "<img src='https://i.imgur.com/RDAD11M.png' width = '200' align = 'right'>\n",
        "\n",
        "## *DATA SCIENCE / SECTION 1 / SPRINT 1 / NOTE 1*\n",
        "\n",
        "---\n",
        "\n",
        "# 📝 Assignment\n",
        "\n"
      ]
    },
    {
      "cell_type": "markdown",
      "metadata": {
        "id": "qoR8E-T2TYPd"
      },
      "source": [
        "## 1.데이터셋 불러오기 연습\n",
        "\n",
        "다음 url에서 엑셀 파일을 불러오세요. (pandas excel)\n",
        "\n",
        "<https://ds-lecture-data.s3.ap-northeast-2.amazonaws.com/stocks/Travel.xlsx>\n",
        "\n",
        "  - 데이터셋 변수의 이름은 `df1`, `df2`로 저장하세요.\n",
        "  - row가 아닌 column에 '매출액', '영업이익' 이 가도록 데이터를 transpose 하세요.\n",
        "  - 이후 아래 링크를 참조하여 첫번째 row를 column name으로 설정하세요.\n",
        "\n",
        "<https://stackoverflow.com/questions/31328861/python-pandas-replacing-header-with-top-row>\n",
        "\n",
        "- 파일은 2개의 시트로 구성되어 있으며 각각 이름은 `008770`, `035250` 입니다.\n",
        "\n"
      ]
    },
    {
      "cell_type": "code",
      "metadata": {
        "id": "1PV8mh9V76gg",
        "colab": {
          "base_uri": "https://localhost:8080/",
          "height": 574
        },
        "outputId": "2ca13614-9d2f-46d1-8534-b04ee5c43d4b"
      },
      "source": [
        "import pandas as pd\n",
        "\n",
        "\n",
        "# url에서 엑셀 파일 불러오기\n",
        "\n",
        "url = 'https://ds-lecture-data.s3.ap-northeast-2.amazonaws.com/stocks/Travel.xlsx'\n",
        "\n",
        "\n",
        "# df1,df2에 저장 & transpose\n",
        "\n",
        "df1 = pd.read_excel(url, sheet_name= 0).transpose()\n",
        "df2 = pd.read_excel(url, sheet_name= 1 ).transpose()\n",
        "\n",
        "\n",
        "# 첫번째 row를 column name 으로 설정\n",
        "\n",
        "df1.columns = df1.iloc[0]\n",
        "df1 = df1[1:]\n",
        "\n",
        "df2.columns = df2.iloc[0]\n",
        "df2 = df2[1:]\n",
        "\n",
        "\n",
        "df1\n",
        "df2\n"
      ],
      "execution_count": 31,
      "outputs": [
        {
          "output_type": "execute_result",
          "data": {
            "text/html": [
              "<div>\n",
              "<style scoped>\n",
              "    .dataframe tbody tr th:only-of-type {\n",
              "        vertical-align: middle;\n",
              "    }\n",
              "\n",
              "    .dataframe tbody tr th {\n",
              "        vertical-align: top;\n",
              "    }\n",
              "\n",
              "    .dataframe thead th {\n",
              "        text-align: right;\n",
              "    }\n",
              "</style>\n",
              "<table border=\"1\" class=\"dataframe\">\n",
              "  <thead>\n",
              "    <tr style=\"text-align: right;\">\n",
              "      <th>주요재무정보</th>\n",
              "      <th>매출액</th>\n",
              "      <th>영업이익</th>\n",
              "      <th>영업이익(발표기준)</th>\n",
              "      <th>세전계속사업이익</th>\n",
              "      <th>당기순이익</th>\n",
              "      <th>당기순이익(지배)</th>\n",
              "      <th>당기순이익(비지배)</th>\n",
              "      <th>자산총계</th>\n",
              "      <th>부채총계</th>\n",
              "      <th>자본총계</th>\n",
              "      <th>자본총계(지배)</th>\n",
              "      <th>자본총계(비지배)</th>\n",
              "      <th>자본금</th>\n",
              "      <th>영업활동현금흐름</th>\n",
              "      <th>투자활동현금흐름</th>\n",
              "      <th>재무활동현금흐름</th>\n",
              "      <th>CAPEX</th>\n",
              "      <th>FCF</th>\n",
              "      <th>이자발생부채</th>\n",
              "      <th>영업이익률</th>\n",
              "      <th>순이익률</th>\n",
              "      <th>ROE(%)</th>\n",
              "      <th>ROA(%)</th>\n",
              "      <th>부채비율</th>\n",
              "      <th>자본유보율</th>\n",
              "      <th>EPS(원)</th>\n",
              "      <th>PER(배)</th>\n",
              "      <th>BPS(원)</th>\n",
              "      <th>PBR(배)</th>\n",
              "      <th>현금DPS(원)</th>\n",
              "      <th>현금배당수익률</th>\n",
              "      <th>현금배당성향(%)</th>\n",
              "    </tr>\n",
              "  </thead>\n",
              "  <tbody>\n",
              "    <tr>\n",
              "      <th>2019/09\\n(IFRS연결)</th>\n",
              "      <td>4055</td>\n",
              "      <td>1392</td>\n",
              "      <td>1392</td>\n",
              "      <td>1554</td>\n",
              "      <td>1286</td>\n",
              "      <td>1286</td>\n",
              "      <td>0</td>\n",
              "      <td>41698</td>\n",
              "      <td>4781</td>\n",
              "      <td>36917</td>\n",
              "      <td>36916</td>\n",
              "      <td>NaN</td>\n",
              "      <td>1070</td>\n",
              "      <td>-22</td>\n",
              "      <td>-1260</td>\n",
              "      <td>-4</td>\n",
              "      <td>167</td>\n",
              "      <td>-189</td>\n",
              "      <td>48</td>\n",
              "      <td>34.33</td>\n",
              "      <td>31.72</td>\n",
              "      <td>8.27</td>\n",
              "      <td>7.2</td>\n",
              "      <td>12.95</td>\n",
              "      <td>3513.86</td>\n",
              "      <td>601</td>\n",
              "      <td>21</td>\n",
              "      <td>18209</td>\n",
              "      <td>1.62</td>\n",
              "      <td>0</td>\n",
              "      <td>NaN</td>\n",
              "      <td>0</td>\n",
              "    </tr>\n",
              "    <tr>\n",
              "      <th>2019/12\\n(IFRS연결)</th>\n",
              "      <td>3728</td>\n",
              "      <td>641</td>\n",
              "      <td>641</td>\n",
              "      <td>769</td>\n",
              "      <td>526</td>\n",
              "      <td>526</td>\n",
              "      <td>0</td>\n",
              "      <td>44381</td>\n",
              "      <td>7204</td>\n",
              "      <td>37178</td>\n",
              "      <td>37177</td>\n",
              "      <td>NaN</td>\n",
              "      <td>1070</td>\n",
              "      <td>2067</td>\n",
              "      <td>-2370</td>\n",
              "      <td>-4</td>\n",
              "      <td>383</td>\n",
              "      <td>1684</td>\n",
              "      <td>680</td>\n",
              "      <td>17.18</td>\n",
              "      <td>14.11</td>\n",
              "      <td>9.16</td>\n",
              "      <td>7.72</td>\n",
              "      <td>19.38</td>\n",
              "      <td>3538.24</td>\n",
              "      <td>246</td>\n",
              "      <td>18.92</td>\n",
              "      <td>18337</td>\n",
              "      <td>1.61</td>\n",
              "      <td>900</td>\n",
              "      <td>NaN</td>\n",
              "      <td>346.75</td>\n",
              "    </tr>\n",
              "    <tr>\n",
              "      <th>2020/03\\n(IFRS연결)</th>\n",
              "      <td>2360</td>\n",
              "      <td>-1868</td>\n",
              "      <td>-1868</td>\n",
              "      <td>-2204</td>\n",
              "      <td>-1561</td>\n",
              "      <td>-1561</td>\n",
              "      <td>0</td>\n",
              "      <td>43702</td>\n",
              "      <td>9945</td>\n",
              "      <td>33757</td>\n",
              "      <td>33757</td>\n",
              "      <td>NaN</td>\n",
              "      <td>1070</td>\n",
              "      <td>-684</td>\n",
              "      <td>909</td>\n",
              "      <td>-4</td>\n",
              "      <td>124</td>\n",
              "      <td>-808</td>\n",
              "      <td>651</td>\n",
              "      <td>-79.14</td>\n",
              "      <td>-66.15</td>\n",
              "      <td>2.21</td>\n",
              "      <td>1.75</td>\n",
              "      <td>29.46</td>\n",
              "      <td>3218.48</td>\n",
              "      <td>-730</td>\n",
              "      <td>55.53</td>\n",
              "      <td>16650</td>\n",
              "      <td>1.19</td>\n",
              "      <td>NaN</td>\n",
              "      <td>NaN</td>\n",
              "      <td>NaN</td>\n",
              "    </tr>\n",
              "    <tr>\n",
              "      <th>2020/06\\n(IFRS연결)</th>\n",
              "      <td>346</td>\n",
              "      <td>-1038</td>\n",
              "      <td>-1038</td>\n",
              "      <td>-723</td>\n",
              "      <td>-456</td>\n",
              "      <td>-456</td>\n",
              "      <td>0</td>\n",
              "      <td>39178</td>\n",
              "      <td>5900</td>\n",
              "      <td>33277</td>\n",
              "      <td>33277</td>\n",
              "      <td>1</td>\n",
              "      <td>1070</td>\n",
              "      <td>-3070</td>\n",
              "      <td>5414</td>\n",
              "      <td>-1842</td>\n",
              "      <td>82</td>\n",
              "      <td>-3153</td>\n",
              "      <td>639</td>\n",
              "      <td>-299.75</td>\n",
              "      <td>-131.55</td>\n",
              "      <td>-0.59</td>\n",
              "      <td>-0.5</td>\n",
              "      <td>17.73</td>\n",
              "      <td>3173.64</td>\n",
              "      <td>-213</td>\n",
              "      <td>NaN</td>\n",
              "      <td>16414</td>\n",
              "      <td>1.31</td>\n",
              "      <td>NaN</td>\n",
              "      <td>NaN</td>\n",
              "      <td>0</td>\n",
              "    </tr>\n",
              "    <tr>\n",
              "      <th>2020/09\\n(IFRS연결)</th>\n",
              "      <td>766</td>\n",
              "      <td>-649</td>\n",
              "      <td>-649</td>\n",
              "      <td>-552</td>\n",
              "      <td>-409</td>\n",
              "      <td>-409</td>\n",
              "      <td>0</td>\n",
              "      <td>37434</td>\n",
              "      <td>4560</td>\n",
              "      <td>32875</td>\n",
              "      <td>32874</td>\n",
              "      <td>0</td>\n",
              "      <td>1070</td>\n",
              "      <td>-1584</td>\n",
              "      <td>2327</td>\n",
              "      <td>-4</td>\n",
              "      <td>260</td>\n",
              "      <td>-1844</td>\n",
              "      <td>646</td>\n",
              "      <td>-84.68</td>\n",
              "      <td>-53.33</td>\n",
              "      <td>-5.44</td>\n",
              "      <td>-4.8</td>\n",
              "      <td>13.87</td>\n",
              "      <td>3136</td>\n",
              "      <td>-191</td>\n",
              "      <td>NaN</td>\n",
              "      <td>16215</td>\n",
              "      <td>1.33</td>\n",
              "      <td>NaN</td>\n",
              "      <td>NaN</td>\n",
              "      <td>NaN</td>\n",
              "    </tr>\n",
              "    <tr>\n",
              "      <th>2020/12(E)\\n(IFRS연결)</th>\n",
              "      <td>1581</td>\n",
              "      <td>-434</td>\n",
              "      <td>NaN</td>\n",
              "      <td>-331</td>\n",
              "      <td>-465</td>\n",
              "      <td>-314</td>\n",
              "      <td>NaN</td>\n",
              "      <td>38271</td>\n",
              "      <td>5998</td>\n",
              "      <td>32274</td>\n",
              "      <td>32212</td>\n",
              "      <td>NaN</td>\n",
              "      <td>1070</td>\n",
              "      <td>NaN</td>\n",
              "      <td>NaN</td>\n",
              "      <td>NaN</td>\n",
              "      <td>NaN</td>\n",
              "      <td>NaN</td>\n",
              "      <td>NaN</td>\n",
              "      <td>-27.49</td>\n",
              "      <td>-29.42</td>\n",
              "      <td>NaN</td>\n",
              "      <td>NaN</td>\n",
              "      <td>18.58</td>\n",
              "      <td>NaN</td>\n",
              "      <td>-147</td>\n",
              "      <td>NaN</td>\n",
              "      <td>15888</td>\n",
              "      <td>1.46</td>\n",
              "      <td>NaN</td>\n",
              "      <td>NaN</td>\n",
              "      <td>NaN</td>\n",
              "    </tr>\n",
              "    <tr>\n",
              "      <th>2021/03(E)\\n(IFRS연결)</th>\n",
              "      <td>1473</td>\n",
              "      <td>-187</td>\n",
              "      <td>NaN</td>\n",
              "      <td>NaN</td>\n",
              "      <td>NaN</td>\n",
              "      <td>-33</td>\n",
              "      <td>NaN</td>\n",
              "      <td>NaN</td>\n",
              "      <td>NaN</td>\n",
              "      <td>NaN</td>\n",
              "      <td>NaN</td>\n",
              "      <td>NaN</td>\n",
              "      <td>NaN</td>\n",
              "      <td>NaN</td>\n",
              "      <td>NaN</td>\n",
              "      <td>NaN</td>\n",
              "      <td>NaN</td>\n",
              "      <td>NaN</td>\n",
              "      <td>NaN</td>\n",
              "      <td>-12.7</td>\n",
              "      <td>NaN</td>\n",
              "      <td>NaN</td>\n",
              "      <td>NaN</td>\n",
              "      <td>NaN</td>\n",
              "      <td>NaN</td>\n",
              "      <td>-15</td>\n",
              "      <td>NaN</td>\n",
              "      <td>NaN</td>\n",
              "      <td>NaN</td>\n",
              "      <td>NaN</td>\n",
              "      <td>NaN</td>\n",
              "      <td>NaN</td>\n",
              "    </tr>\n",
              "    <tr>\n",
              "      <th>2021/06(E)\\n(IFRS연결)</th>\n",
              "      <td>1746</td>\n",
              "      <td>-65</td>\n",
              "      <td>NaN</td>\n",
              "      <td>NaN</td>\n",
              "      <td>NaN</td>\n",
              "      <td>135</td>\n",
              "      <td>NaN</td>\n",
              "      <td>NaN</td>\n",
              "      <td>NaN</td>\n",
              "      <td>NaN</td>\n",
              "      <td>NaN</td>\n",
              "      <td>NaN</td>\n",
              "      <td>NaN</td>\n",
              "      <td>NaN</td>\n",
              "      <td>NaN</td>\n",
              "      <td>NaN</td>\n",
              "      <td>NaN</td>\n",
              "      <td>NaN</td>\n",
              "      <td>NaN</td>\n",
              "      <td>-3.72</td>\n",
              "      <td>NaN</td>\n",
              "      <td>NaN</td>\n",
              "      <td>NaN</td>\n",
              "      <td>NaN</td>\n",
              "      <td>NaN</td>\n",
              "      <td>63</td>\n",
              "      <td>NaN</td>\n",
              "      <td>NaN</td>\n",
              "      <td>NaN</td>\n",
              "      <td>NaN</td>\n",
              "      <td>NaN</td>\n",
              "      <td>NaN</td>\n",
              "    </tr>\n",
              "  </tbody>\n",
              "</table>\n",
              "</div>"
            ],
            "text/plain": [
              "주요재무정보                 매출액  영업이익 영업이익(발표기준)  ... 현금DPS(원) 현금배당수익률 현금배당성향(%)\n",
              "2019/09\\n(IFRS연결)     4055  1392       1392  ...        0     NaN         0\n",
              "2019/12\\n(IFRS연결)     3728   641        641  ...      900     NaN    346.75\n",
              "2020/03\\n(IFRS연결)     2360 -1868      -1868  ...      NaN     NaN       NaN\n",
              "2020/06\\n(IFRS연결)      346 -1038      -1038  ...      NaN     NaN         0\n",
              "2020/09\\n(IFRS연결)      766  -649       -649  ...      NaN     NaN       NaN\n",
              "2020/12(E)\\n(IFRS연결)  1581  -434        NaN  ...      NaN     NaN       NaN\n",
              "2021/03(E)\\n(IFRS연결)  1473  -187        NaN  ...      NaN     NaN       NaN\n",
              "2021/06(E)\\n(IFRS연결)  1746   -65        NaN  ...      NaN     NaN       NaN\n",
              "\n",
              "[8 rows x 32 columns]"
            ]
          },
          "metadata": {
            "tags": []
          },
          "execution_count": 31
        }
      ]
    },
    {
      "cell_type": "markdown",
      "metadata": {
        "id": "156P6ndeKojO"
      },
      "source": [
        "## 2. 데이터 확인\n",
        "\n",
        "- 데이터의 dimension을 확인하세요.\n",
        "- 데이터의 결측치가 어디에 있는지 확인 후 0으로 대체하세요.\n",
        "- 각 데이터 별로 **FCF**의 값을 barplot으로 시각화하세요.\n",
        "  - 0보다 큰값, 작은값의 수의 총합을 `num1`, `num2`에 저장하세요\n"
      ]
    },
    {
      "cell_type": "code",
      "metadata": {
        "id": "d-9k03-b9thC",
        "colab": {
          "base_uri": "https://localhost:8080/"
        },
        "outputId": "6de728c5-4f7d-4034-e4ae-c3c554466d57"
      },
      "source": [
        "#df1\n",
        "\n",
        "#데이터의 dimension 확인\n",
        "print(df1.shape, df2.shape)\n",
        "\n",
        "\n",
        "#결측치 확인 후 0으로 대체\n",
        "\n",
        "df1 = df1.fillna(0)\n",
        "df2 = df2.fillna(0)\n",
        "\n",
        "\n",
        "# num1,num2 저장하기\n",
        "num1,num2 = 0, 0\n",
        "\n",
        "for i in range(8):\n",
        "  if df1['FCF'].iloc[i] > 0:\n",
        "    num1 += 1\n",
        "  elif df1['FCF'].iloc[i] < 0:\n",
        "    num2 += 1\n",
        "  \n",
        "  if df2['FCF'].iloc[i] > 0:\n",
        "    num1 += 1\n",
        "  elif df2['FCF'].iloc[i] < 0:\n",
        "    num2 += 1\n",
        "\n",
        "print(num1,num2)\n",
        "\n",
        "\n"
      ],
      "execution_count": 32,
      "outputs": [
        {
          "output_type": "stream",
          "text": [
            "(8, 32) (8, 32)\n",
            "4 6\n"
          ],
          "name": "stdout"
        }
      ]
    },
    {
      "cell_type": "code",
      "metadata": {
        "colab": {
          "base_uri": "https://localhost:8080/",
          "height": 481
        },
        "id": "fpolbqexhXvN",
        "outputId": "94767fe6-7595-4c10-91d5-93e30b36fb1e"
      },
      "source": [
        "# df1 시각화\n",
        "df1['FCF'].plot.bar();\n"
      ],
      "execution_count": 33,
      "outputs": [
        {
          "output_type": "stream",
          "text": [
            "/usr/local/lib/python3.7/dist-packages/matplotlib/backends/backend_agg.py:214: RuntimeWarning: Glyph 50672 missing from current font.\n",
            "  font.set_text(s, 0.0, flags=flags)\n",
            "/usr/local/lib/python3.7/dist-packages/matplotlib/backends/backend_agg.py:214: RuntimeWarning: Glyph 44208 missing from current font.\n",
            "  font.set_text(s, 0.0, flags=flags)\n",
            "/usr/local/lib/python3.7/dist-packages/matplotlib/backends/backend_agg.py:183: RuntimeWarning: Glyph 50672 missing from current font.\n",
            "  font.set_text(s, 0, flags=flags)\n",
            "/usr/local/lib/python3.7/dist-packages/matplotlib/backends/backend_agg.py:183: RuntimeWarning: Glyph 44208 missing from current font.\n",
            "  font.set_text(s, 0, flags=flags)\n"
          ],
          "name": "stderr"
        },
        {
          "output_type": "display_data",
          "data": {
            "image/png": "[encoded data removed]",
            "text/plain": [
              "<Figure size 432x288 with 1 Axes>"
            ]
          },
          "metadata": {
            "tags": [],
            "needs_background": "light"
          }
        }
      ]
    },
    {
      "cell_type": "code",
      "metadata": {
        "colab": {
          "base_uri": "https://localhost:8080/",
          "height": 481
        },
        "id": "ZPcEi4B-hrME",
        "outputId": "b4066e11-3399-40da-def2-975f49404907"
      },
      "source": [
        "# df2 시각화 \n",
        "df2['FCF'].plot.bar();"
      ],
      "execution_count": 34,
      "outputs": [
        {
          "output_type": "stream",
          "text": [
            "/usr/local/lib/python3.7/dist-packages/matplotlib/backends/backend_agg.py:214: RuntimeWarning: Glyph 50672 missing from current font.\n",
            "  font.set_text(s, 0.0, flags=flags)\n",
            "/usr/local/lib/python3.7/dist-packages/matplotlib/backends/backend_agg.py:214: RuntimeWarning: Glyph 44208 missing from current font.\n",
            "  font.set_text(s, 0.0, flags=flags)\n",
            "/usr/local/lib/python3.7/dist-packages/matplotlib/backends/backend_agg.py:183: RuntimeWarning: Glyph 50672 missing from current font.\n",
            "  font.set_text(s, 0, flags=flags)\n",
            "/usr/local/lib/python3.7/dist-packages/matplotlib/backends/backend_agg.py:183: RuntimeWarning: Glyph 44208 missing from current font.\n",
            "  font.set_text(s, 0, flags=flags)\n"
          ],
          "name": "stderr"
        },
        {
          "output_type": "display_data",
          "data": {
            "image/png": "[encoded data removed]",
            "text/plain": [
              "<Figure size 432x288 with 1 Axes>"
            ]
          },
          "metadata": {
            "tags": [],
            "needs_background": "light"
          }
        }
      ]
    },
    {
      "cell_type": "markdown",
      "metadata": {
        "id": "OGMOBwEBTqKS"
      },
      "source": [
        "## 3. File export\n",
        "\n",
        "- 읽었던 엑셀 파일의 내용을 2개의 csv로 각각 출력하세요. (python export csv)\n",
        "\n",
        "  - 이름은 각각 `df1.csv`, `df2.csv` 입니다.\n"
      ]
    },
    {
      "cell_type": "code",
      "metadata": {
        "id": "LcklWleDl9Vt"
      },
      "source": [
        "\n",
        "df1.to_csv('df1.csv')   #df1 csv 파일로 저장하기\n",
        "df1 = pd.read_csv('df1.csv') #df1 csv 파일 출력하기\n",
        "\n",
        "df2.to_csv('df1.csv')   #df2 csv 파일로 저장하기\n",
        "df2 = pd.read_csv('df1.csv')   #df2 csv 파일 출력하기\n"
      ],
      "execution_count": 35,
      "outputs": []
    },
    {
      "cell_type": "markdown",
      "metadata": {
        "id": "DCZ01w4Ps-jO"
      },
      "source": [
        "## 4. Error Handling\n",
        "\n",
        "- 다음의 에러를 고치세요. 결과값은 6912가 나와야합니다.\n"
      ]
    },
    {
      "cell_type": "code",
      "metadata": {
        "colab": {
          "base_uri": "https://localhost:8080/"
        },
        "id": "NJdISe69ZT7E",
        "outputId": "7b266540-999b-4e4c-8f35-be2bf1b3a9a3"
      },
      "source": [
        "a = int('1234')\n",
        "b = 5678\n",
        "\n",
        "a+b"
      ],
      "execution_count": 36,
      "outputs": [
        {
          "output_type": "execute_result",
          "data": {
            "text/plain": [
              "6912"
            ]
          },
          "metadata": {
            "tags": []
          },
          "execution_count": 36
        }
      ]
    },
    {
      "cell_type": "markdown",
      "metadata": {
        "id": "KROePyMWQc08"
      },
      "source": [
        "## 5. EDA\n",
        "\n",
        "아래의 코드는 palmer penguin 데이터를 불러올 수 있는 코드입니다.\n",
        "\n",
        "```python\n",
        "import seaborn as sns\n",
        "\n",
        "pp = sns.load_dataset('penguins')\n",
        "```\n",
        "\n",
        "이를 참조하여, `pp`의 `species`와 `sex`변수에 대해서 cross-tabulation을 시행하고, 6개의 값들 중 가장 큰 값을 `num3`에, 가장 작은 값을 `num4`에 저장하세요."
      ]
    },
    {
      "cell_type": "code",
      "metadata": {
        "id": "GuENkrLISFeR",
        "colab": {
          "base_uri": "https://localhost:8080/"
        },
        "outputId": "58cfacca-c9b1-46e3-a611-7c917588657b"
      },
      "source": [
        "# palmer penguin 데이터 불러오기\n",
        "import seaborn as sns\n",
        " \n",
        "pp = sns.load_dataset('penguins')\n",
        "\n",
        "\n",
        "#cross-tabulation 시행 \n",
        "\n",
        "pd.crosstab(pp.species, pp.sex) \n",
        "\n",
        "\n",
        "#num3, num4 저장 \n",
        "num3 = 73\n",
        "num4 = 34\n",
        "\n",
        "print(num3, num4)\n"
      ],
      "execution_count": 37,
      "outputs": [
        {
          "output_type": "stream",
          "text": [
            "73 34\n"
          ],
          "name": "stdout"
        }
      ]
    },
    {
      "cell_type": "markdown",
      "metadata": {
        "id": "en0Q_b5L4fxA"
      },
      "source": [
        "## Grading\n",
        "\n",
        "이전 과제를 완료했다면, 아래의 코드를 실행하세요. "
      ]
    },
    {
      "cell_type": "code",
      "metadata": {
        "id": "1k3zn-YV4fdg"
      },
      "source": [
        "import os\n",
        "\n",
        "def grade(df1, df2, num1, num2, num3, num4):\n",
        "  score = 0\n",
        "  \n",
        "  score += (df1['매출액'][0] == 14753)\n",
        "  score += (df2['매출액'][1] == 3728)\n",
        "\n",
        "  score += (df1.shape == (7, 32))\n",
        "  score += (df2.isnull().sum().sum() == 0)\n",
        "  score += (num1 == 4 and num2 == 6)\n",
        "  \n",
        "  score += (num3 == 73 and num4 == 34)\n",
        "\n",
        "  score += (os.listdir() == ['.config', 'df2.csv', 'df1.csv', 'sample_data'])\n",
        "\n",
        "  score += (a+b == 6912)\n",
        "\n",
        "  return(score)"
      ],
      "execution_count": 38,
      "outputs": []
    },
    {
      "cell_type": "code",
      "metadata": {
        "id": "nj_RslFn4lCM",
        "colab": {
          "base_uri": "https://localhost:8080/"
        },
        "outputId": "e1d3786e-d61b-41fb-882c-b68fc679b2b1"
      },
      "source": [
        "grade(df1, df2, num1, num2, num3, num4)"
      ],
      "execution_count": 39,
      "outputs": [
        {
          "output_type": "execute_result",
          "data": {
            "text/plain": [
              "6"
            ]
          },
          "metadata": {
            "tags": []
          },
          "execution_count": 39
        }
      ]
    },
    {
      "cell_type": "markdown",
      "metadata": {
        "id": "axPHh5t5s124"
      },
      "source": [
        "## 🔥 도전과제 \n",
        "\n",
        "- 다음 데이터를 사용하여 아래와 동일한 그래프를 그리세요.\n",
        "\n",
        "<https://ds-lecture-data.s3.ap-northeast-2.amazonaws.com/stocks/TSLA.csv>\n",
        "\n",
        "<img src='https://i.imgur.com/UsS5JcZ.png'>\n",
        "\n"
      ]
    },
    {
      "cell_type": "code",
      "metadata": {
        "id": "eNGiylrhwm2D"
      },
      "source": [
        ""
      ],
      "execution_count": null,
      "outputs": []
    },
    {
      "cell_type": "markdown",
      "metadata": {
        "id": "Obp0rnowSgF8"
      },
      "source": [
        "- penguins 데이터를 계속 사용합니다.\n",
        "\n",
        "이에 대해 아래의 task들을 시행하세요.\n",
        "\n",
        "- 결측치 처리 (제거)\n",
        "\n",
        "- bill_length_mm에 대해서 qqplot 그리기\n",
        "\n",
        "- island에 대해서 다른 4개의 numerical feature 를 boxplot으로 표현하기\n",
        "\n",
        "- 각 numerical feature에 대해서 summary statistics : mean, sd, Quantiles(1Q, 2Q, 3Q, 4Q)를 계산하세요."
      ]
    },
    {
      "cell_type": "code",
      "metadata": {
        "id": "0tVL1EYBTS45"
      },
      "source": [
        ""
      ],
      "execution_count": null,
      "outputs": []
    }
  ]
}