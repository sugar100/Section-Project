{
  "nbformat": 4,
  "nbformat_minor": 0,
  "metadata": {
    "colab": {
      "name": "section04 proejct.ipynb",
      "provenance": [],
      "authorship_tag": "ABX9TyPOyZFriw723iOGVv5RCiE0",
      "include_colab_link": true
    },
    "kernelspec": {
      "name": "python3",
      "display_name": "Python 3"
    },
    "language_info": {
      "name": "python"
    }
  },
  "cells": [
    {
      "cell_type": "markdown",
      "metadata": {
        "id": "view-in-github",
        "colab_type": "text"
      },
      "source": [
        "<a href=\"https://colab.research.google.com/github/sugar100/Section-Project/blob/main/AI_03_%EB%B0%B1%EC%84%A4_section04.ipynb\" target=\"_parent\"><img src=\"https://colab.research.google.com/assets/colab-badge.svg\" alt=\"Open In Colab\"/></a>"
      ]
    },
    {
      "cell_type": "markdown",
      "metadata": {
        "id": "lsp9luHUp7Xa"
      },
      "source": [
        "# **유튜브 조회수와 제목의 상관관계**\n",
        "### 유튜브 제목에 포홤된 긍정/부정의 단어가 조회수에 영향을 미치는가?"
      ]
    },
    {
      "cell_type": "markdown",
      "metadata": {
        "id": "ILjpCtt0ezyZ"
      },
      "source": [
        "## **데이터 불러오기 & 간단한 전처리**"
      ]
    },
    {
      "cell_type": "code",
      "metadata": {
        "colab": {
          "base_uri": "https://localhost:8080/"
        },
        "id": "VsASZrhfe1Hw",
        "outputId": "a70ca295-54a0-49a3-fbea-e273f0bfc875"
      },
      "source": [
        "from google.colab import drive\n",
        "drive.mount('/content/drive')"
      ],
      "execution_count": 1,
      "outputs": [
        {
          "output_type": "stream",
          "name": "stdout",
          "text": [
            "Drive already mounted at /content/drive; to attempt to forcibly remount, call drive.mount(\"/content/drive\", force_remount=True).\n"
          ]
        }
      ]
    },
    {
      "cell_type": "code",
      "metadata": {
        "id": "_Zl-40Jie68d"
      },
      "source": [
        "import pandas as pd \n",
        "import numpy as np\n",
        "\n",
        "import re\n",
        "import string\n",
        "import seaborn as sns\n",
        "import matplotlib.pyplot as plt\n",
        "import spacy\n",
        "from spacy.tokenizer import Tokenizer\n",
        "from sklearn.feature_extraction.text import TfidfVectorizer\n",
        "\n",
        "from collections import Counter\n",
        "from sklearn.model_selection import train_test_split, GridSearchCV\n",
        "\n",
        "import tensorflow as tf\n",
        "from tensorflow import keras"
      ],
      "execution_count": 2,
      "outputs": []
    },
    {
      "cell_type": "code",
      "metadata": {
        "id": "qWROj1Yte6-d"
      },
      "source": [
        "# Import Libraries\n",
        "\n",
        "import glob\n",
        "import json\n",
        "import datetime as dt\n",
        "import os\n",
        "import string\n",
        "import re    #for regex\n",
        "\n",
        "import random\n",
        "\n",
        "import numpy as np # linear algebra\n",
        "import pandas as pd # data processing, CSV file I/O (e.g. pd.read_csv)\n",
        "\n",
        "from sklearn.feature_extraction.text import TfidfVectorizer, CountVectorizer\n",
        "from sklearn.ensemble import RandomForestClassifier\n",
        "from sklearn.model_selection import train_test_split,GridSearchCV\n",
        "from sklearn.linear_model import LogisticRegression\n",
        "from sklearn.pipeline import make_pipeline\n",
        "\n",
        "# plotting\n",
        "import matplotlib.pyplot as plt\n",
        "import matplotlib.pylab as pl\n",
        "import matplotlib.colors as colors\n",
        "import matplotlib.gridspec as gridspec\n",
        "from matplotlib import cm\n",
        "import seaborn as sns\n",
        "import plotly.graph_objs as go\n",
        "import plotly.offline as py\n",
        "\n",
        "# natural language processing\n",
        "import spacy\n",
        "from spacy.lang.en.stop_words import STOP_WORDS\n",
        "from spacy.lang.en import English\n",
        "\n",
        "import nltk\n",
        "from nltk.util import bigrams\n",
        "from nltk.util import trigrams\n",
        "from nltk.corpus import stopwords\n",
        "from nltk import pos_tag\n",
        "from nltk.stem.wordnet import WordNetLemmatizer \n",
        "from nltk.tokenize import sent_tokenize, word_tokenize\n",
        "from nltk.tokenize import RegexpTokenizer, TweetTokenizer\n",
        "\n",
        "\n",
        "from wordcloud import WordCloud, STOPWORDS\n",
        "from textblob import TextBlob\n",
        "\n",
        "from tqdm import tqdm\n",
        "import operator\n",
        "from sklearn.decomposition import NMF, LatentDirichletAllocation, TruncatedSVD\n",
        "from statistics import *\n",
        "import concurrent.futures\n",
        "import time\n",
        "\n",
        "from pylab import bone, pcolor, colorbar, plot, show, rcParams, savefig\n",
        "\n",
        "# keras module for building LSTM \n",
        "from keras.preprocessing.sequence import pad_sequences\n",
        "from keras.layers import Embedding, LSTM, Dense, Dropout\n",
        "from keras.preprocessing.text import Tokenizer\n",
        "from keras.callbacks import EarlyStopping\n",
        "from keras.models import Sequential\n",
        "import keras.utils as ku "
      ],
      "execution_count": 3,
      "outputs": []
    },
    {
      "cell_type": "code",
      "metadata": {
        "colab": {
          "base_uri": "https://localhost:8080/"
        },
        "id": "Lu3g1xQYe7Ag",
        "outputId": "02fa5e23-01f1-41d3-f6d3-fc562ef67d4c"
      },
      "source": [
        "\n",
        "#df(=youtube trending dataset) 불러오기\n",
        "df = pd.read_csv('/content/drive/MyDrive/KRvideos.csv', engine = 'python')\n",
        "\n",
        "# category name 생성\n",
        "import json\n",
        "\n",
        "with open('/content/drive/MyDrive/KR_category_id.json') as f:\n",
        "  categories = json.load(f)[\"items\"]\n",
        "cat_dict = {}\n",
        "for cat in categories:\n",
        "  cat_dict[int(cat[\"id\"])] = cat[\"snippet\"][\"title\"]\n",
        "df['category_name'] = df['category_id'].map(cat_dict)\n",
        "\n",
        "df[\"category_name\"].loc[df[\"category_name\"].isnull() == True] = \"비영리/사회운동\""
      ],
      "execution_count": 4,
      "outputs": [
        {
          "output_type": "stream",
          "name": "stderr",
          "text": [
            "/usr/local/lib/python3.7/dist-packages/pandas/core/indexing.py:670: SettingWithCopyWarning:\n",
            "\n",
            "\n",
            "A value is trying to be set on a copy of a slice from a DataFrame\n",
            "\n",
            "See the caveats in the documentation: https://pandas.pydata.org/pandas-docs/stable/user_guide/indexing.html#returning-a-view-versus-a-copy\n",
            "\n"
          ]
        }
      ]
    },
    {
      "cell_type": "code",
      "metadata": {
        "id": "VhkjAURae7Co"
      },
      "source": [
        "# 필요없는 columns 삭제\n",
        "df = df.drop(['video_id', 'thumbnail_link', 'comments_disabled', 'ratings_disabled', 'video_error_or_removed'], axis = 1)\n"
      ],
      "execution_count": 5,
      "outputs": []
    },
    {
      "cell_type": "code",
      "metadata": {
        "id": "r9CFuyN4fF1A"
      },
      "source": [
        "df.duplicated().sum()  # 중복값 확인\n",
        "\n",
        "# 중복값 제거\n",
        "df = df.drop_duplicates()"
      ],
      "execution_count": 6,
      "outputs": []
    },
    {
      "cell_type": "code",
      "metadata": {
        "colab": {
          "base_uri": "https://localhost:8080/"
        },
        "id": "7wpZttCHfF3H",
        "outputId": "50ee043d-fd47-4a1f-ec77-6dbedee65bcc"
      },
      "source": [
        "df.isna().sum()"
      ],
      "execution_count": 7,
      "outputs": [
        {
          "output_type": "execute_result",
          "data": {
            "text/plain": [
              "trending_date       0\n",
              "title               0\n",
              "channel_title       0\n",
              "category_id         0\n",
              "publish_time        0\n",
              "tags                0\n",
              "views               0\n",
              "likes               0\n",
              "dislikes            0\n",
              "comment_count       0\n",
              "description      2987\n",
              "category_name       0\n",
              "dtype: int64"
            ]
          },
          "metadata": {},
          "execution_count": 7
        }
      ]
    },
    {
      "cell_type": "code",
      "metadata": {
        "id": "vRsmIruHfF5A"
      },
      "source": [
        "df = df.dropna(axis=0)"
      ],
      "execution_count": 8,
      "outputs": []
    },
    {
      "cell_type": "markdown",
      "metadata": {
        "id": "kGY9IVsTfJmz"
      },
      "source": [
        "# 자연어 전처리"
      ]
    },
    {
      "cell_type": "markdown",
      "metadata": {
        "id": "MX4mPaAAfPlJ"
      },
      "source": [
        "### (1) Basic Preprocessing"
      ]
    },
    {
      "cell_type": "code",
      "metadata": {
        "id": "xWhIodEtfLRd"
      },
      "source": [
        "df[\"title\"] = df[\"title\"].str.replace(pat=r'[^\\w]', repl=r' ', regex=True)\n",
        "df[\"tags\"] = df[\"tags\"].str.replace(pat=r'[^\\w]', repl=r' ', regex=True)\n",
        "df[\"description\"] = df[\"description\"].str.replace(pat=r'[^\\w]', repl=r' ', regex=True)"
      ],
      "execution_count": 9,
      "outputs": []
    },
    {
      "cell_type": "markdown",
      "metadata": {
        "id": "hijzgvStfUEK"
      },
      "source": [
        "### (2) Tokenize, 형태소 분석"
      ]
    },
    {
      "cell_type": "code",
      "metadata": {
        "colab": {
          "base_uri": "https://localhost:8080/"
        },
        "id": "wHpGPbXLfWFv",
        "outputId": "a5b15e1a-db0e-41a9-c9e7-df9a7cdfa3e3"
      },
      "source": [
        "pip install konlpy"
      ],
      "execution_count": 10,
      "outputs": [
        {
          "output_type": "stream",
          "name": "stdout",
          "text": [
            "Requirement already satisfied: konlpy in /usr/local/lib/python3.7/dist-packages (0.5.2)\n",
            "Requirement already satisfied: colorama in /usr/local/lib/python3.7/dist-packages (from konlpy) (0.4.4)\n",
            "Requirement already satisfied: lxml>=4.1.0 in /usr/local/lib/python3.7/dist-packages (from konlpy) (4.2.6)\n",
            "Requirement already satisfied: tweepy>=3.7.0 in /usr/local/lib/python3.7/dist-packages (from konlpy) (3.10.0)\n",
            "Requirement already satisfied: JPype1>=0.7.0 in /usr/local/lib/python3.7/dist-packages (from konlpy) (1.3.0)\n",
            "Requirement already satisfied: numpy>=1.6 in /usr/local/lib/python3.7/dist-packages (from konlpy) (1.19.5)\n",
            "Requirement already satisfied: beautifulsoup4==4.6.0 in /usr/local/lib/python3.7/dist-packages (from konlpy) (4.6.0)\n",
            "Requirement already satisfied: typing-extensions in /usr/local/lib/python3.7/dist-packages (from JPype1>=0.7.0->konlpy) (3.7.4.3)\n",
            "Requirement already satisfied: six>=1.10.0 in /usr/local/lib/python3.7/dist-packages (from tweepy>=3.7.0->konlpy) (1.15.0)\n",
            "Requirement already satisfied: requests[socks]>=2.11.1 in /usr/local/lib/python3.7/dist-packages (from tweepy>=3.7.0->konlpy) (2.23.0)\n",
            "Requirement already satisfied: requests-oauthlib>=0.7.0 in /usr/local/lib/python3.7/dist-packages (from tweepy>=3.7.0->konlpy) (1.3.0)\n",
            "Requirement already satisfied: oauthlib>=3.0.0 in /usr/local/lib/python3.7/dist-packages (from requests-oauthlib>=0.7.0->tweepy>=3.7.0->konlpy) (3.1.1)\n",
            "Requirement already satisfied: certifi>=2017.4.17 in /usr/local/lib/python3.7/dist-packages (from requests[socks]>=2.11.1->tweepy>=3.7.0->konlpy) (2021.5.30)\n",
            "Requirement already satisfied: chardet<4,>=3.0.2 in /usr/local/lib/python3.7/dist-packages (from requests[socks]>=2.11.1->tweepy>=3.7.0->konlpy) (3.0.4)\n",
            "Requirement already satisfied: urllib3!=1.25.0,!=1.25.1,<1.26,>=1.21.1 in /usr/local/lib/python3.7/dist-packages (from requests[socks]>=2.11.1->tweepy>=3.7.0->konlpy) (1.24.3)\n",
            "Requirement already satisfied: idna<3,>=2.5 in /usr/local/lib/python3.7/dist-packages (from requests[socks]>=2.11.1->tweepy>=3.7.0->konlpy) (2.10)\n",
            "Requirement already satisfied: PySocks!=1.5.7,>=1.5.6 in /usr/local/lib/python3.7/dist-packages (from requests[socks]>=2.11.1->tweepy>=3.7.0->konlpy) (1.7.1)\n"
          ]
        }
      ]
    },
    {
      "cell_type": "code",
      "metadata": {
        "id": "Lf-dbRyFfZ7N"
      },
      "source": [
        "from konlpy.tag import Okt \n",
        "okt = Okt()"
      ],
      "execution_count": 11,
      "outputs": []
    },
    {
      "cell_type": "code",
      "metadata": {
        "id": "kKeff_KjfZ9R"
      },
      "source": [
        " def getTokenedData(df):\n",
        "\n",
        "    splited_input=[]\n",
        "   \n",
        "    for i in df['title']:\n",
        "        temp_X =[]\n",
        "        temp_X = okt.morphs(i, stem=True)\n",
        "       \n",
        "\n",
        "        splited_input.append(temp_X)\n",
        "\n",
        "    return splited_input"
      ],
      "execution_count": 12,
      "outputs": []
    },
    {
      "cell_type": "code",
      "metadata": {
        "id": "ECzALekDfcQy"
      },
      "source": [
        "df['title'] = getTokenedData(df)"
      ],
      "execution_count": 13,
      "outputs": []
    },
    {
      "cell_type": "code",
      "metadata": {
        "id": "zta9AVN5fcTB"
      },
      "source": [
        " def getTokenedData2(df):\n",
        "\n",
        "    splited_input=[]\n",
        "   \n",
        "    for i in df['tags']:\n",
        "        temp_X =[]\n",
        "        temp_X = okt.morphs(i, stem=True)\n",
        "       \n",
        "\n",
        "        splited_input.append(temp_X)\n",
        "\n",
        "    return splited_input"
      ],
      "execution_count": 14,
      "outputs": []
    },
    {
      "cell_type": "code",
      "metadata": {
        "id": "KtKcfOOGfcU_"
      },
      "source": [
        "df['tags'] = getTokenedData2(df)"
      ],
      "execution_count": 15,
      "outputs": []
    },
    {
      "cell_type": "code",
      "metadata": {
        "id": "-tLeaTmKfgSm"
      },
      "source": [
        " def getTokenedData3(df):\n",
        "\n",
        "    splited_input=[]\n",
        "   \n",
        "    for i in df['description']:\n",
        "        temp_X =[]\n",
        "        temp_X = okt.morphs(i, stem=True)\n",
        "       \n",
        "\n",
        "        splited_input.append(temp_X)\n",
        "\n",
        "    return splited_input"
      ],
      "execution_count": 16,
      "outputs": []
    },
    {
      "cell_type": "code",
      "metadata": {
        "id": "dXHGhA_FfgX-"
      },
      "source": [
        "df['description'] = getTokenedData3(df)"
      ],
      "execution_count": 17,
      "outputs": []
    },
    {
      "cell_type": "code",
      "metadata": {
        "colab": {
          "base_uri": "https://localhost:8080/",
          "height": 752
        },
        "id": "aUBsO_GqfgdN",
        "outputId": "52e041c1-a31e-4a4f-d87d-43a24a850d77"
      },
      "source": [
        "df.head()"
      ],
      "execution_count": 18,
      "outputs": [
        {
          "output_type": "execute_result",
          "data": {
            "text/html": [
              "<div>\n",
              "<style scoped>\n",
              "    .dataframe tbody tr th:only-of-type {\n",
              "        vertical-align: middle;\n",
              "    }\n",
              "\n",
              "    .dataframe tbody tr th {\n",
              "        vertical-align: top;\n",
              "    }\n",
              "\n",
              "    .dataframe thead th {\n",
              "        text-align: right;\n",
              "    }\n",
              "</style>\n",
              "<table border=\"1\" class=\"dataframe\">\n",
              "  <thead>\n",
              "    <tr style=\"text-align: right;\">\n",
              "      <th></th>\n",
              "      <th>trending_date</th>\n",
              "      <th>title</th>\n",
              "      <th>channel_title</th>\n",
              "      <th>category_id</th>\n",
              "      <th>publish_time</th>\n",
              "      <th>tags</th>\n",
              "      <th>views</th>\n",
              "      <th>likes</th>\n",
              "      <th>dislikes</th>\n",
              "      <th>comment_count</th>\n",
              "      <th>description</th>\n",
              "      <th>category_name</th>\n",
              "    </tr>\n",
              "  </thead>\n",
              "  <tbody>\n",
              "    <tr>\n",
              "      <th>0</th>\n",
              "      <td>17.14.11</td>\n",
              "      <td>[좋다, by, 민서, _, 윤종신, _, 좋다, 답, 가]</td>\n",
              "      <td>라푸마코리아</td>\n",
              "      <td>22</td>\n",
              "      <td>2017-11-13T07:07:36.000Z</td>\n",
              "      <td>[라, 푸마, 윤종신, 좋다, 좋다, 샬레, 민서]</td>\n",
              "      <td>156130</td>\n",
              "      <td>1422</td>\n",
              "      <td>40</td>\n",
              "      <td>272</td>\n",
              "      <td>[윤종신, 좋다, 의, 답, 가, 좋다, 최초, 공개, n, 그, 여자, 의, 이야...</td>\n",
              "      <td>People &amp; Blogs</td>\n",
              "    </tr>\n",
              "    <tr>\n",
              "      <th>1</th>\n",
              "      <td>17.14.11</td>\n",
              "      <td>[JSA, 귀순, 북한, 군, 총격, 부상]</td>\n",
              "      <td>Edward</td>\n",
              "      <td>25</td>\n",
              "      <td>2017-11-13T10:59:16.000Z</td>\n",
              "      <td>[JSA, 귀순, 북한, 군, 총격, 부상, JSA, 귀순, 북한, 군, 총격, 부상]</td>\n",
              "      <td>76533</td>\n",
              "      <td>211</td>\n",
              "      <td>28</td>\n",
              "      <td>113</td>\n",
              "      <td>[채널, A, 단독, 北, 병사, 현재, 의식, 불명, 혈압, 떨어지다, 중, n,...</td>\n",
              "      <td>News &amp; Politics</td>\n",
              "    </tr>\n",
              "    <tr>\n",
              "      <th>2</th>\n",
              "      <td>17.14.11</td>\n",
              "      <td>[나, 모르다, 패밀리, 운동화, 영상, 2, 타다, 빼빼로데이, 버젼]</td>\n",
              "      <td>나몰라패밀리 핫쇼</td>\n",
              "      <td>22</td>\n",
              "      <td>2017-11-11T07:16:08.000Z</td>\n",
              "      <td>[아디다스, 빼빼로, 핫쇼, 나, 모르다, 패밀리, 대학로, 공연]</td>\n",
              "      <td>421409</td>\n",
              "      <td>5112</td>\n",
              "      <td>166</td>\n",
              "      <td>459</td>\n",
              "      <td>[퍼가실때, 꼭, 출처, 부탁드리다]</td>\n",
              "      <td>People &amp; Blogs</td>\n",
              "    </tr>\n",
              "    <tr>\n",
              "      <th>3</th>\n",
              "      <td>17.14.11</td>\n",
              "      <td>[이명박, 출국, 현장, 놓치다, 안되다, 장면]</td>\n",
              "      <td>미디어몽구</td>\n",
              "      <td>25</td>\n",
              "      <td>2017-11-12T11:19:52.000Z</td>\n",
              "      <td>[이명박, 이명박, 출국금지, 이명박, 출국, 현장, 이명박, 바레인, 이명박, 대...</td>\n",
              "      <td>222850</td>\n",
              "      <td>2093</td>\n",
              "      <td>173</td>\n",
              "      <td>1219</td>\n",
              "      <td>[다스, 는, 누구, 겁, 니까, 듣다, 난, 후, 표정]</td>\n",
              "      <td>News &amp; Politics</td>\n",
              "    </tr>\n",
              "    <tr>\n",
              "      <th>4</th>\n",
              "      <td>17.14.11</td>\n",
              "      <td>[김장, 겸, 은, 물르다, 가다, MBC, 노조, 환호, 와, 눈물]</td>\n",
              "      <td>NocutV</td>\n",
              "      <td>25</td>\n",
              "      <td>2017-11-13T11:08:59.000Z</td>\n",
              "      <td>[nocutV, 노컷, V, CBS, mbc, 김장, 겸, 해임, 허일, 후]</td>\n",
              "      <td>84466</td>\n",
              "      <td>1094</td>\n",
              "      <td>109</td>\n",
              "      <td>450</td>\n",
              "      <td>[김장, 겸, MBC, 사장, 이, 결국, 해임, 돼다, n, nMBC, 대주, 주...</td>\n",
              "      <td>News &amp; Politics</td>\n",
              "    </tr>\n",
              "  </tbody>\n",
              "</table>\n",
              "</div>"
            ],
            "text/plain": [
              "  trending_date  ...    category_name\n",
              "0      17.14.11  ...   People & Blogs\n",
              "1      17.14.11  ...  News & Politics\n",
              "2      17.14.11  ...   People & Blogs\n",
              "3      17.14.11  ...  News & Politics\n",
              "4      17.14.11  ...  News & Politics\n",
              "\n",
              "[5 rows x 12 columns]"
            ]
          },
          "metadata": {},
          "execution_count": 18
        }
      ]
    },
    {
      "cell_type": "markdown",
      "metadata": {
        "id": "JokdZdobfjYo"
      },
      "source": [
        "## 상위, 하위 10개 유튜브 목록 "
      ]
    },
    {
      "cell_type": "code",
      "metadata": {
        "colab": {
          "base_uri": "https://localhost:8080/"
        },
        "id": "IiC-HrrkfknT",
        "outputId": "79421e4b-134d-47f4-bd2b-195d38511a9c"
      },
      "source": [
        "Q1 = df.views.quantile(0.25)\n",
        "Q3 = df.views.quantile(0.75)\n",
        "IQR = Q3 - Q1\n",
        "print(IQR)\n",
        "\n",
        "popular_videos=df.loc[df.views > (Q3 + 1.5 * IQR)]\n",
        "\n",
        "df['popular']=0\n",
        "df.loc[df.views > (Q3 + 1.5 * IQR),'popular']=1\n",
        "\n",
        "df['popular'].value_counts()"
      ],
      "execution_count": 19,
      "outputs": [
        {
          "output_type": "stream",
          "name": "stdout",
          "text": [
            "237495.75\n"
          ]
        },
        {
          "output_type": "execute_result",
          "data": {
            "text/plain": [
              "0    26012\n",
              "1     3252\n",
              "Name: popular, dtype: int64"
            ]
          },
          "metadata": {},
          "execution_count": 19
        }
      ]
    },
    {
      "cell_type": "code",
      "metadata": {
        "id": "tzbyel2TfoCw"
      },
      "source": [
        "#make a variable that tells ratio of like and dislike\n",
        "df['like_percentage']=(df['likes']/(df['likes']+df['dislikes'])*100)\n",
        "#date column as datatime datatype\n",
        "df[\"publish_time\"] = pd.to_datetime(df[\"publish_time\"])"
      ],
      "execution_count": 20,
      "outputs": []
    },
    {
      "cell_type": "code",
      "metadata": {
        "colab": {
          "base_uri": "https://localhost:8080/",
          "height": 1000
        },
        "id": "F64yU08ffoE8",
        "outputId": "46e390d2-be10-4f9c-d91f-078dbaac3ae3"
      },
      "source": [
        "#좋아요 가장 많이 받은 10개 동영상\n",
        "df.loc[df.popular==1].sort_values(by=['like_percentage'], ascending=False).head(10)"
      ],
      "execution_count": 21,
      "outputs": [
        {
          "output_type": "execute_result",
          "data": {
            "text/html": [
              "<div>\n",
              "<style scoped>\n",
              "    .dataframe tbody tr th:only-of-type {\n",
              "        vertical-align: middle;\n",
              "    }\n",
              "\n",
              "    .dataframe tbody tr th {\n",
              "        vertical-align: top;\n",
              "    }\n",
              "\n",
              "    .dataframe thead th {\n",
              "        text-align: right;\n",
              "    }\n",
              "</style>\n",
              "<table border=\"1\" class=\"dataframe\">\n",
              "  <thead>\n",
              "    <tr style=\"text-align: right;\">\n",
              "      <th></th>\n",
              "      <th>trending_date</th>\n",
              "      <th>title</th>\n",
              "      <th>channel_title</th>\n",
              "      <th>category_id</th>\n",
              "      <th>publish_time</th>\n",
              "      <th>tags</th>\n",
              "      <th>views</th>\n",
              "      <th>likes</th>\n",
              "      <th>dislikes</th>\n",
              "      <th>comment_count</th>\n",
              "      <th>description</th>\n",
              "      <th>category_name</th>\n",
              "      <th>popular</th>\n",
              "      <th>like_percentage</th>\n",
              "    </tr>\n",
              "  </thead>\n",
              "  <tbody>\n",
              "    <tr>\n",
              "      <th>26902</th>\n",
              "      <td>18.01.05</td>\n",
              "      <td>[G, C, F, in, Osaka]</td>\n",
              "      <td>BANGTANTV</td>\n",
              "      <td>10</td>\n",
              "      <td>2018-04-30 13:03:49+00:00</td>\n",
              "      <td>[방탄소년단, BTS, BANGTAN, HIPHOP, 랩, 몬스터, RapMonst...</td>\n",
              "      <td>2335147</td>\n",
              "      <td>612761</td>\n",
              "      <td>568</td>\n",
              "      <td>56894</td>\n",
              "      <td>[BTS, Official, Homepage, http, bts, ibighit, ...</td>\n",
              "      <td>Music</td>\n",
              "      <td>1</td>\n",
              "      <td>99.907391</td>\n",
              "    </tr>\n",
              "    <tr>\n",
              "      <th>27000</th>\n",
              "      <td>18.02.05</td>\n",
              "      <td>[G, C, F, in, Osaka]</td>\n",
              "      <td>BANGTANTV</td>\n",
              "      <td>10</td>\n",
              "      <td>2018-04-30 13:03:49+00:00</td>\n",
              "      <td>[방탄소년단, BTS, BANGTAN, HIPHOP, 랩, 몬스터, RapMonst...</td>\n",
              "      <td>2942269</td>\n",
              "      <td>688754</td>\n",
              "      <td>687</td>\n",
              "      <td>61516</td>\n",
              "      <td>[BTS, Official, Homepage, http, bts, ibighit, ...</td>\n",
              "      <td>Music</td>\n",
              "      <td>1</td>\n",
              "      <td>99.900354</td>\n",
              "    </tr>\n",
              "    <tr>\n",
              "      <th>373</th>\n",
              "      <td>17.16.11</td>\n",
              "      <td>[PREVIEW, BTS, 방탄소년단, 2018, Season, s, greetin...</td>\n",
              "      <td>BANGTANTV</td>\n",
              "      <td>10</td>\n",
              "      <td>2017-11-15 15:00:10+00:00</td>\n",
              "      <td>[방탄소년단, BTS, BANGTAN, HIPHOP, 랩, 몬스터, RapMonst...</td>\n",
              "      <td>1002924</td>\n",
              "      <td>237304</td>\n",
              "      <td>299</td>\n",
              "      <td>11933</td>\n",
              "      <td>[BTS, Official, Homepage, http, bts, ibighit, ...</td>\n",
              "      <td>Music</td>\n",
              "      <td>1</td>\n",
              "      <td>99.874160</td>\n",
              "    </tr>\n",
              "    <tr>\n",
              "      <th>706</th>\n",
              "      <td>17.17.11</td>\n",
              "      <td>[PREVIEW, BTS, 방탄소년단, 2018, Season, s, greetin...</td>\n",
              "      <td>BANGTANTV</td>\n",
              "      <td>10</td>\n",
              "      <td>2017-11-15 15:00:10+00:00</td>\n",
              "      <td>[방탄소년단, BTS, BANGTAN, HIPHOP, 랩, 몬스터, RapMonst...</td>\n",
              "      <td>1293307</td>\n",
              "      <td>276529</td>\n",
              "      <td>372</td>\n",
              "      <td>12886</td>\n",
              "      <td>[BTS, Official, Homepage, http, bts, ibighit, ...</td>\n",
              "      <td>Music</td>\n",
              "      <td>1</td>\n",
              "      <td>99.865656</td>\n",
              "    </tr>\n",
              "    <tr>\n",
              "      <th>15037</th>\n",
              "      <td>18.12.02</td>\n",
              "      <td>[Choreography, Video, SEVENTEEN, 세븐, 틴, 고맙다, T...</td>\n",
              "      <td>SEVENTEEN</td>\n",
              "      <td>10</td>\n",
              "      <td>2018-02-10 13:10:04+00:00</td>\n",
              "      <td>[세븐, 틴, seventeen, 고맙다, thanks]</td>\n",
              "      <td>810425</td>\n",
              "      <td>118942</td>\n",
              "      <td>162</td>\n",
              "      <td>6417</td>\n",
              "      <td>[Choreography, Video, SEVENTEEN, 세븐, 틴, 고맙다, T...</td>\n",
              "      <td>Music</td>\n",
              "      <td>1</td>\n",
              "      <td>99.863984</td>\n",
              "    </tr>\n",
              "    <tr>\n",
              "      <th>20913</th>\n",
              "      <td>18.20.03</td>\n",
              "      <td>[Special, Trailer, BTS, Burn, The, Stage]</td>\n",
              "      <td>BANGTANTV</td>\n",
              "      <td>24</td>\n",
              "      <td>2018-03-20 03:00:00+00:00</td>\n",
              "      <td>[방탄소년단, 슈가, 지민, 랩, 몬스터, 진, 정국, 제이, 홉, 뷔, 빅히트, ...</td>\n",
              "      <td>690491</td>\n",
              "      <td>210287</td>\n",
              "      <td>297</td>\n",
              "      <td>18786</td>\n",
              "      <td>[Episode, 1, 2, release, on, March, 29, th, 12...</td>\n",
              "      <td>Entertainment</td>\n",
              "      <td>1</td>\n",
              "      <td>99.858964</td>\n",
              "    </tr>\n",
              "    <tr>\n",
              "      <th>2982</th>\n",
              "      <td>17.30.11</td>\n",
              "      <td>[EPISODE, BTS, 방탄소년단, MIC, Drop, MV, Shooting]</td>\n",
              "      <td>BANGTANTV</td>\n",
              "      <td>10</td>\n",
              "      <td>2017-11-29 10:00:03+00:00</td>\n",
              "      <td>[방탄소년단, BTS, BANGTAN, HIPHOP, 랩, 몬스터, RapMonst...</td>\n",
              "      <td>1447420</td>\n",
              "      <td>245076</td>\n",
              "      <td>354</td>\n",
              "      <td>12157</td>\n",
              "      <td>[BTS, Official, Homepage, http, bts, ibighit, ...</td>\n",
              "      <td>Music</td>\n",
              "      <td>1</td>\n",
              "      <td>99.855763</td>\n",
              "    </tr>\n",
              "    <tr>\n",
              "      <th>34101</th>\n",
              "      <td>18.12.06</td>\n",
              "      <td>[BTS, 방탄소년단, 방탄, 회식, 2018, BTSFESTA]</td>\n",
              "      <td>BANGTANTV</td>\n",
              "      <td>10</td>\n",
              "      <td>2018-06-11 15:00:03+00:00</td>\n",
              "      <td>[방탄소년단, BTS, BANGTAN, HIPHOP, 랩, 몬스터, RapMonst...</td>\n",
              "      <td>2384801</td>\n",
              "      <td>416032</td>\n",
              "      <td>607</td>\n",
              "      <td>38992</td>\n",
              "      <td>[BTS, Official, Homepage, http, bts, ibighit, ...</td>\n",
              "      <td>Music</td>\n",
              "      <td>1</td>\n",
              "      <td>99.854310</td>\n",
              "    </tr>\n",
              "    <tr>\n",
              "      <th>11190</th>\n",
              "      <td>18.20.01</td>\n",
              "      <td>[BANGTAN, BOMB, Jin, s, Surprise, Birthday, Pa...</td>\n",
              "      <td>BANGTANTV</td>\n",
              "      <td>10</td>\n",
              "      <td>2018-01-19 11:00:05+00:00</td>\n",
              "      <td>[방탄소년단, BTS, BANGTAN, HIPHOP, 랩, 몬스터, RapMonst...</td>\n",
              "      <td>1251010</td>\n",
              "      <td>218826</td>\n",
              "      <td>325</td>\n",
              "      <td>18005</td>\n",
              "      <td>[BTS, Official, Homepage, http, bts, ibighit, ...</td>\n",
              "      <td>Music</td>\n",
              "      <td>1</td>\n",
              "      <td>99.851700</td>\n",
              "    </tr>\n",
              "    <tr>\n",
              "      <th>10083</th>\n",
              "      <td>18.14.01</td>\n",
              "      <td>[천만원, 을, 일, 시불, 로, 긁다, 사연, 가조, 쿠, 들, 선물, 이야]</td>\n",
              "      <td>보겸 TV</td>\n",
              "      <td>20</td>\n",
              "      <td>2018-01-13 13:14:02+00:00</td>\n",
              "      <td>[클래시, 로얄, clash, royale, 보겸, 보겸, TV, 슈, 마상, 도티...</td>\n",
              "      <td>773020</td>\n",
              "      <td>152329</td>\n",
              "      <td>228</td>\n",
              "      <td>249179</td>\n",
              "      <td>[방학, 선물, 이야, 다, 들다, 잘, 받다, 댓글, 에, 메일, 주소, 남기다,...</td>\n",
              "      <td>Gaming</td>\n",
              "      <td>1</td>\n",
              "      <td>99.850548</td>\n",
              "    </tr>\n",
              "  </tbody>\n",
              "</table>\n",
              "</div>"
            ],
            "text/plain": [
              "      trending_date  ... like_percentage\n",
              "26902      18.01.05  ...       99.907391\n",
              "27000      18.02.05  ...       99.900354\n",
              "373        17.16.11  ...       99.874160\n",
              "706        17.17.11  ...       99.865656\n",
              "15037      18.12.02  ...       99.863984\n",
              "20913      18.20.03  ...       99.858964\n",
              "2982       17.30.11  ...       99.855763\n",
              "34101      18.12.06  ...       99.854310\n",
              "11190      18.20.01  ...       99.851700\n",
              "10083      18.14.01  ...       99.850548\n",
              "\n",
              "[10 rows x 14 columns]"
            ]
          },
          "metadata": {},
          "execution_count": 21
        }
      ]
    },
    {
      "cell_type": "code",
      "metadata": {
        "colab": {
          "base_uri": "https://localhost:8080/",
          "height": 1000
        },
        "id": "HGMwQxflfoHN",
        "outputId": "33eb7d58-486d-4f0d-e7d7-97becd0d4e22"
      },
      "source": [
        "#싫어요 가장 많이 받은 10개 동영상\n",
        "\n",
        "df.loc[df.popular==1].sort_values(by=['like_percentage'], ascending=True).head(10)\n",
        "                                                                              "
      ],
      "execution_count": 22,
      "outputs": [
        {
          "output_type": "execute_result",
          "data": {
            "text/html": [
              "<div>\n",
              "<style scoped>\n",
              "    .dataframe tbody tr th:only-of-type {\n",
              "        vertical-align: middle;\n",
              "    }\n",
              "\n",
              "    .dataframe tbody tr th {\n",
              "        vertical-align: top;\n",
              "    }\n",
              "\n",
              "    .dataframe thead th {\n",
              "        text-align: right;\n",
              "    }\n",
              "</style>\n",
              "<table border=\"1\" class=\"dataframe\">\n",
              "  <thead>\n",
              "    <tr style=\"text-align: right;\">\n",
              "      <th></th>\n",
              "      <th>trending_date</th>\n",
              "      <th>title</th>\n",
              "      <th>channel_title</th>\n",
              "      <th>category_id</th>\n",
              "      <th>publish_time</th>\n",
              "      <th>tags</th>\n",
              "      <th>views</th>\n",
              "      <th>likes</th>\n",
              "      <th>dislikes</th>\n",
              "      <th>comment_count</th>\n",
              "      <th>description</th>\n",
              "      <th>category_name</th>\n",
              "      <th>popular</th>\n",
              "      <th>like_percentage</th>\n",
              "    </tr>\n",
              "  </thead>\n",
              "  <tbody>\n",
              "    <tr>\n",
              "      <th>5874</th>\n",
              "      <td>17.18.12</td>\n",
              "      <td>[고영욱, 엄마, 자살, 근황, 사건, 추다, 전자발찌, 신상, 정보공개]</td>\n",
              "      <td>연예인</td>\n",
              "      <td>22</td>\n",
              "      <td>2017-12-15 10:00:04+00:00</td>\n",
              "      <td>[KRVBA, TV, 연예인, 연예계, 스캔들, 고영욱, 고영욱, youtube]</td>\n",
              "      <td>761606</td>\n",
              "      <td>564</td>\n",
              "      <td>8551</td>\n",
              "      <td>1011</td>\n",
              "      <td>[고영욱, 엄마, 자살, 근황, 사건, 추다, 전자발찌, 신상, 정보공개, n, 재...</td>\n",
              "      <td>People &amp; Blogs</td>\n",
              "      <td>1</td>\n",
              "      <td>6.187603</td>\n",
              "    </tr>\n",
              "    <tr>\n",
              "      <th>16426</th>\n",
              "      <td>18.21.02</td>\n",
              "      <td>[김보름, 진심, 으로, 사과, 드리다, 결국, 눈물, 로, 사죄, 기자회견, 풀,...</td>\n",
              "      <td>SBS 뉴스</td>\n",
              "      <td>25</td>\n",
              "      <td>2018-02-20 09:33:31+00:00</td>\n",
              "      <td>[뉴스, NEWS, news, SBS, sbs, SBS, NEWS, SBS, 8, ...</td>\n",
              "      <td>1337500</td>\n",
              "      <td>2200</td>\n",
              "      <td>8092</td>\n",
              "      <td>14673</td>\n",
              "      <td>[스피드스케이팅, 여자, 팀, 추월, 경기, 에서, 불거지다, 팀워크, 논란, 과,...</td>\n",
              "      <td>News &amp; Politics</td>\n",
              "      <td>1</td>\n",
              "      <td>21.375826</td>\n",
              "    </tr>\n",
              "    <tr>\n",
              "      <th>182</th>\n",
              "      <td>17.15.11</td>\n",
              "      <td>[현재, 논란중, 인, 홍대, 머리, 채남]</td>\n",
              "      <td>궁금타파</td>\n",
              "      <td>22</td>\n",
              "      <td>2017-11-12 18:52:16+00:00</td>\n",
              "      <td>[홍대, 홍대, 버스킹]</td>\n",
              "      <td>1232807</td>\n",
              "      <td>872</td>\n",
              "      <td>2517</td>\n",
              "      <td>2185</td>\n",
              "      <td>[홍대, 댄스, 버스킹, 하다, 갑자기, 여성, 분, 머리, 잡고, 나오다]</td>\n",
              "      <td>People &amp; Blogs</td>\n",
              "      <td>1</td>\n",
              "      <td>25.730304</td>\n",
              "    </tr>\n",
              "    <tr>\n",
              "      <th>355</th>\n",
              "      <td>17.16.11</td>\n",
              "      <td>[현재, 논란중, 인, 홍대, 머리, 채남]</td>\n",
              "      <td>궁금타파</td>\n",
              "      <td>22</td>\n",
              "      <td>2017-11-12 18:52:16+00:00</td>\n",
              "      <td>[홍대, 홍대, 버스킹]</td>\n",
              "      <td>1528596</td>\n",
              "      <td>1208</td>\n",
              "      <td>3474</td>\n",
              "      <td>2883</td>\n",
              "      <td>[홍대, 댄스, 버스킹, 하다, 갑자기, 여성, 분, 머리, 잡고, 나오다]</td>\n",
              "      <td>People &amp; Blogs</td>\n",
              "      <td>1</td>\n",
              "      <td>25.800940</td>\n",
              "    </tr>\n",
              "    <tr>\n",
              "      <th>1225</th>\n",
              "      <td>17.20.11</td>\n",
              "      <td>[현재, 논란중, 인, 홍대, 머리, 채남]</td>\n",
              "      <td>궁금타파</td>\n",
              "      <td>22</td>\n",
              "      <td>2017-11-12 18:52:16+00:00</td>\n",
              "      <td>[홍대, 홍대, 버스킹]</td>\n",
              "      <td>1799687</td>\n",
              "      <td>1517</td>\n",
              "      <td>4360</td>\n",
              "      <td>3316</td>\n",
              "      <td>[홍대, 댄스, 버스킹, 하다, 갑자기, 여성, 분, 머리, 잡고, 나오다]</td>\n",
              "      <td>People &amp; Blogs</td>\n",
              "      <td>1</td>\n",
              "      <td>25.812489</td>\n",
              "    </tr>\n",
              "    <tr>\n",
              "      <th>986</th>\n",
              "      <td>17.19.11</td>\n",
              "      <td>[현재, 논란중, 인, 홍대, 머리, 채남]</td>\n",
              "      <td>궁금타파</td>\n",
              "      <td>22</td>\n",
              "      <td>2017-11-12 18:52:16+00:00</td>\n",
              "      <td>[홍대, 홍대, 버스킹]</td>\n",
              "      <td>1788852</td>\n",
              "      <td>1506</td>\n",
              "      <td>4323</td>\n",
              "      <td>3307</td>\n",
              "      <td>[홍대, 댄스, 버스킹, 하다, 갑자기, 여성, 분, 머리, 잡고, 나오다]</td>\n",
              "      <td>People &amp; Blogs</td>\n",
              "      <td>1</td>\n",
              "      <td>25.836336</td>\n",
              "    </tr>\n",
              "    <tr>\n",
              "      <th>748</th>\n",
              "      <td>17.18.11</td>\n",
              "      <td>[현재, 논란중, 인, 홍대, 머리, 채남]</td>\n",
              "      <td>궁금타파</td>\n",
              "      <td>22</td>\n",
              "      <td>2017-11-12 18:52:16+00:00</td>\n",
              "      <td>[홍대, 홍대, 버스킹]</td>\n",
              "      <td>1763874</td>\n",
              "      <td>1487</td>\n",
              "      <td>4264</td>\n",
              "      <td>3295</td>\n",
              "      <td>[홍대, 댄스, 버스킹, 하다, 갑자기, 여성, 분, 머리, 잡고, 나오다]</td>\n",
              "      <td>People &amp; Blogs</td>\n",
              "      <td>1</td>\n",
              "      <td>25.856373</td>\n",
              "    </tr>\n",
              "    <tr>\n",
              "      <th>21579</th>\n",
              "      <td>18.24.03</td>\n",
              "      <td>[이태임, 은퇴, 이태임, 이명박, 관계, 비밀, 이, 밝혀지다]</td>\n",
              "      <td>Korea News 24H</td>\n",
              "      <td>24</td>\n",
              "      <td>2018-03-20 06:00:02+00:00</td>\n",
              "      <td>[이태임, 은퇴, 이태임, 이명박, 관계, 비밀, 이, 밝혀지다, youtube, ...</td>\n",
              "      <td>989744</td>\n",
              "      <td>991</td>\n",
              "      <td>2836</td>\n",
              "      <td>463</td>\n",
              "      <td>[이태임, 은퇴, 이태임, 이명박, 관계, 비밀, 이, 밝혀지다, 이태임, 이명박,...</td>\n",
              "      <td>Entertainment</td>\n",
              "      <td>1</td>\n",
              "      <td>25.894957</td>\n",
              "    </tr>\n",
              "    <tr>\n",
              "      <th>21303</th>\n",
              "      <td>18.23.03</td>\n",
              "      <td>[이태임, 은퇴, 이태임, 이명박, 관계, 비밀, 이, 밝혀지다]</td>\n",
              "      <td>Korea News 24H</td>\n",
              "      <td>24</td>\n",
              "      <td>2018-03-20 06:00:02+00:00</td>\n",
              "      <td>[이태임, 은퇴, 이태임, 이명박, 관계, 비밀, 이, 밝혀지다, youtube, ...</td>\n",
              "      <td>923536</td>\n",
              "      <td>953</td>\n",
              "      <td>2727</td>\n",
              "      <td>462</td>\n",
              "      <td>[이태임, 은퇴, 이태임, 이명박, 관계, 비밀, 이, 밝혀지다, 이태임, 이명박,...</td>\n",
              "      <td>Entertainment</td>\n",
              "      <td>1</td>\n",
              "      <td>25.896739</td>\n",
              "    </tr>\n",
              "    <tr>\n",
              "      <th>546</th>\n",
              "      <td>17.17.11</td>\n",
              "      <td>[현재, 논란중, 인, 홍대, 머리, 채남]</td>\n",
              "      <td>궁금타파</td>\n",
              "      <td>22</td>\n",
              "      <td>2017-11-12 18:52:16+00:00</td>\n",
              "      <td>[홍대, 홍대, 버스킹]</td>\n",
              "      <td>1671363</td>\n",
              "      <td>1393</td>\n",
              "      <td>3958</td>\n",
              "      <td>2994</td>\n",
              "      <td>[홍대, 댄스, 버스킹, 하다, 갑자기, 여성, 분, 머리, 잡고, 나오다]</td>\n",
              "      <td>People &amp; Blogs</td>\n",
              "      <td>1</td>\n",
              "      <td>26.032517</td>\n",
              "    </tr>\n",
              "  </tbody>\n",
              "</table>\n",
              "</div>"
            ],
            "text/plain": [
              "      trending_date  ... like_percentage\n",
              "5874       17.18.12  ...        6.187603\n",
              "16426      18.21.02  ...       21.375826\n",
              "182        17.15.11  ...       25.730304\n",
              "355        17.16.11  ...       25.800940\n",
              "1225       17.20.11  ...       25.812489\n",
              "986        17.19.11  ...       25.836336\n",
              "748        17.18.11  ...       25.856373\n",
              "21579      18.24.03  ...       25.894957\n",
              "21303      18.23.03  ...       25.896739\n",
              "546        17.17.11  ...       26.032517\n",
              "\n",
              "[10 rows x 14 columns]"
            ]
          },
          "metadata": {},
          "execution_count": 22
        }
      ]
    },
    {
      "cell_type": "markdown",
      "metadata": {
        "id": "bXUyS8XofqK0"
      },
      "source": [
        ""
      ]
    },
    {
      "cell_type": "markdown",
      "metadata": {
        "id": "P499TKuTfqQ-"
      },
      "source": [
        "## TfidfVectorizer"
      ]
    },
    {
      "cell_type": "code",
      "metadata": {
        "colab": {
          "base_uri": "https://localhost:8080/"
        },
        "id": "rVJyMtPEfrkr",
        "outputId": "be3b02bd-0fa3-4f0e-f164-9537c6100c06"
      },
      "source": [
        "tokenizer = Tokenizer()\n",
        "\n",
        "def get_sequence_of_tokens(corpus):\n",
        "    ## tokenization\n",
        "    tokenizer.fit_on_texts(corpus)\n",
        "    total_words = len(tokenizer.word_index) + 1\n",
        "    \n",
        "    ## convert data to sequence of tokens \n",
        "    input_sequences = []\n",
        "    for line in corpus:\n",
        "        token_list = tokenizer.texts_to_sequences([line])[0]\n",
        "        for i in range(1, len(token_list)):\n",
        "            n_gram_sequence = token_list[:i+1]\n",
        "            input_sequences.append(n_gram_sequence)\n",
        "    return input_sequences, total_words\n",
        "\n",
        "inp_sequences, total_words = get_sequence_of_tokens(df['title'])\n",
        "inp_sequences[:10]"
      ],
      "execution_count": 23,
      "outputs": [
        {
          "output_type": "execute_result",
          "data": {
            "text/plain": [
              "[[199, 146],\n",
              " [199, 146, 3644],\n",
              " [199, 146, 3644, 23],\n",
              " [199, 146, 3644, 23, 2342],\n",
              " [199, 146, 3644, 23, 2342, 23],\n",
              " [199, 146, 3644, 23, 2342, 23, 199],\n",
              " [199, 146, 3644, 23, 2342, 23, 199, 1295],\n",
              " [199, 146, 3644, 23, 2342, 23, 199, 1295, 6],\n",
              " [1754, 580],\n",
              " [1754, 580, 80]]"
            ]
          },
          "metadata": {},
          "execution_count": 23
        }
      ]
    },
    {
      "cell_type": "code",
      "metadata": {
        "id": "xZFtAHgtfsi9"
      },
      "source": [
        "def generate_padded_sequences(input_sequences):\n",
        "    max_sequence_len = max([len(x) for x in input_sequences])\n",
        "    input_sequences = np.array(pad_sequences(input_sequences, maxlen=max_sequence_len, padding='pre'))\n",
        "    \n",
        "  \n",
        "    predictors, label = input_sequences[:,:-1],input_sequences[:,-1]\n",
        "    label = tf.keras.utils.to_categorical(label, num_classes=total_words)\n",
        "    return predictors, label, max_sequence_len\n",
        "\n",
        "predictors, label, max_sequence_len = generate_padded_sequences(inp_sequences[:1000])"
      ],
      "execution_count": 26,
      "outputs": []
    },
    {
      "cell_type": "code",
      "metadata": {
        "id": "6Vz1FNkvfslJ",
        "colab": {
          "base_uri": "https://localhost:8080/"
        },
        "outputId": "9f04f887-5e45-4e4f-a365-2356b6df1820"
      },
      "source": [
        "\n",
        "def create_model(max_sequence_len, total_words):\n",
        "    input_len = max_sequence_len - 1\n",
        "    model = Sequential()\n",
        "    \n",
        "    # Add Input Embedding Layer\n",
        "    model.add(Embedding(total_words, 10, input_length=input_len))\n",
        "    \n",
        "    # Add Hidden Layer 1 - LSTM Layer\n",
        "    model.add(LSTM(100))\n",
        "    model.add(Dropout(0.1))\n",
        "    \n",
        "    # Add Output Layer\n",
        "    model.add(Dense(total_words, activation='softmax'))\n",
        "\n",
        "    model.compile(loss='categorical_crossentropy', optimizer='adam')\n",
        "    \n",
        "    return model\n",
        "\n",
        "model = create_model(max_sequence_len, total_words)\n",
        "model.summary()"
      ],
      "execution_count": 27,
      "outputs": [
        {
          "output_type": "stream",
          "name": "stdout",
          "text": [
            "Model: \"sequential\"\n",
            "_________________________________________________________________\n",
            "Layer (type)                 Output Shape              Param #   \n",
            "=================================================================\n",
            "embedding (Embedding)        (None, 27, 10)            241500    \n",
            "_________________________________________________________________\n",
            "lstm (LSTM)                  (None, 100)               44400     \n",
            "_________________________________________________________________\n",
            "dropout (Dropout)            (None, 100)               0         \n",
            "_________________________________________________________________\n",
            "dense (Dense)                (None, 24150)             2439150   \n",
            "=================================================================\n",
            "Total params: 2,725,050\n",
            "Trainable params: 2,725,050\n",
            "Non-trainable params: 0\n",
            "_________________________________________________________________\n"
          ]
        }
      ]
    },
    {
      "cell_type": "code",
      "metadata": {
        "id": "AuSktxsIfsnN",
        "colab": {
          "base_uri": "https://localhost:8080/"
        },
        "outputId": "c846a7dd-634f-4c1f-dc30-7a2cacfb843f"
      },
      "source": [
        "model.fit(predictors, label, epochs=50, verbose=5)"
      ],
      "execution_count": 28,
      "outputs": [
        {
          "output_type": "stream",
          "name": "stdout",
          "text": [
            "Epoch 1/50\n",
            "Epoch 2/50\n",
            "Epoch 3/50\n",
            "Epoch 4/50\n",
            "Epoch 5/50\n",
            "Epoch 6/50\n",
            "Epoch 7/50\n",
            "Epoch 8/50\n",
            "Epoch 9/50\n",
            "Epoch 10/50\n",
            "Epoch 11/50\n",
            "Epoch 12/50\n",
            "Epoch 13/50\n",
            "Epoch 14/50\n",
            "Epoch 15/50\n",
            "Epoch 16/50\n",
            "Epoch 17/50\n",
            "Epoch 18/50\n",
            "Epoch 19/50\n",
            "Epoch 20/50\n",
            "Epoch 21/50\n",
            "Epoch 22/50\n",
            "Epoch 23/50\n",
            "Epoch 24/50\n",
            "Epoch 25/50\n",
            "Epoch 26/50\n",
            "Epoch 27/50\n",
            "Epoch 28/50\n",
            "Epoch 29/50\n",
            "Epoch 30/50\n",
            "Epoch 31/50\n",
            "Epoch 32/50\n",
            "Epoch 33/50\n",
            "Epoch 34/50\n",
            "Epoch 35/50\n",
            "Epoch 36/50\n",
            "Epoch 37/50\n",
            "Epoch 38/50\n",
            "Epoch 39/50\n",
            "Epoch 40/50\n",
            "Epoch 41/50\n",
            "Epoch 42/50\n",
            "Epoch 43/50\n",
            "Epoch 44/50\n",
            "Epoch 45/50\n",
            "Epoch 46/50\n",
            "Epoch 47/50\n",
            "Epoch 48/50\n",
            "Epoch 49/50\n",
            "Epoch 50/50\n"
          ]
        },
        {
          "output_type": "execute_result",
          "data": {
            "text/plain": [
              "<keras.callbacks.History at 0x7f2412208190>"
            ]
          },
          "metadata": {},
          "execution_count": 28
        }
      ]
    },
    {
      "cell_type": "code",
      "metadata": {
        "id": "ADERM7i9JVEN"
      },
      "source": [
        "def generate_text(seed_text, next_words):\n",
        "    for _ in range(next_words):\n",
        "        token_list = tokenizer.texts_to_sequences([seed_text])[0]\n",
        "        token_list = pad_sequences([token_list], maxlen=max_sequence_len-1, padding='pre')\n",
        "        predicted = model.predict_classes(token_list, verbose=0)\n",
        "        \n",
        "        output_word = \"\"\n",
        "        for word,index in tokenizer.word_index.items():\n",
        "            if index == predicted:\n",
        "                output_word = word\n",
        "                break\n",
        "        seed_text += \" \"+output_word\n",
        "    return seed_text.title()"
      ],
      "execution_count": 29,
      "outputs": []
    },
    {
      "cell_type": "code",
      "metadata": {
        "id": "lHsSUWUAJVRo"
      },
      "source": [
        "def generate_title_texts(words_list):\n",
        "    for word in words_list:\n",
        "        print(generate_text(word, random.randint(4, 10)))"
      ],
      "execution_count": 30,
      "outputs": []
    },
    {
      "cell_type": "code",
      "metadata": {
        "id": "GcUMu5TSJoNH"
      },
      "source": [
        ""
      ],
      "execution_count": null,
      "outputs": []
    }
  ]
}